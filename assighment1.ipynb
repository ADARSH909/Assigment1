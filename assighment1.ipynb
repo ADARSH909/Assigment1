{
 "cells": [
  {
   "cell_type": "code",
   "execution_count": null,
   "id": "a39754d4-b912-4f4a-b096-18d4b674aa12",
   "metadata": {},
   "outputs": [],
   "source": [
    "1.Who developed python programming language?\n",
    "Ans.Guido Van Rossum "
   ]
  },
  {
   "cell_type": "code",
   "execution_count": null,
   "id": "a698a680-546d-4e15-8757-7ea4e3f62392",
   "metadata": {},
   "outputs": [],
   "source": [
    "2.which type of programming does python support?\n",
    "Ans.general purpose as well as object oreinted."
   ]
  },
  {
   "cell_type": "code",
   "execution_count": null,
   "id": "0ae8eb3d-0b6f-41e9-8822-e23d2b9d70cc",
   "metadata": {},
   "outputs": [],
   "source": [
    "3.is python case sensiive when dealing with identifiers?\n",
    "Ans.yes"
   ]
  },
  {
   "cell_type": "code",
   "execution_count": null,
   "id": "7db4a2c2-2002-45bf-85af-94de22f6b02b",
   "metadata": {},
   "outputs": [],
   "source": [
    "4.what is correct extension of python file?\n",
    "Ans. .py"
   ]
  },
  {
   "cell_type": "code",
   "execution_count": null,
   "id": "948b05a8-5784-4d9b-9347-09a5d82efb06",
   "metadata": {},
   "outputs": [],
   "source": [
    "\n",
    "5.is python code compiled or interpreted?\n",
    "Ans.Python is a “COMPILED INTERPRETED” language.\n",
    "\n",
    "This means when the Python program is run,\n",
    "\n",
    "First Python checks for program syntax\n",
    "Compiles and converts it to bytecode, and directly bytecode is loaded in system memory.\n",
    "Then compiled bytecode interpreted from memory to execute it."
   ]
  },
  {
   "cell_type": "code",
   "execution_count": null,
   "id": "39e1843c-8fbe-4eb7-a79a-ba1af3f1d9da",
   "metadata": {},
   "outputs": [],
   "source": [
    "6.name a few blocks of code used to define in python language?\n",
    "Ans.In for loop,if-else condition indention is used to define a blocks of code"
   ]
  },
  {
   "cell_type": "code",
   "execution_count": null,
   "id": "abb4d855-48dd-4648-bc96-ff4012adb764",
   "metadata": {},
   "outputs": [],
   "source": [
    "7.state a character use to give single-line comment?\n",
    "Ans.# is use to give single-line comment"
   ]
  },
  {
   "cell_type": "code",
   "execution_count": null,
   "id": "a1825a38-d2b2-4dd9-85b7-5ad14cbdc541",
   "metadata": {},
   "outputs": [],
   "source": [
    "8.mention a function which can help us to find the version of python that we are currently working on?\n",
    "Ans Sys.version\n",
    "    \n",
    "    import sys  \n",
    "    print(\"Version\")  \n",
    "    print(sys.version) "
   ]
  },
  {
   "cell_type": "code",
   "execution_count": null,
   "id": "0a2678a0-9d35-4308-a026-cb2e46a9494b",
   "metadata": {},
   "outputs": [],
   "source": [
    "9. python support the creation of anonymous function at runtime , using a contruct called______?\n",
    "Ans.lambda function"
   ]
  },
  {
   "cell_type": "code",
   "execution_count": null,
   "id": "37cf299e-869c-4268-aaf1-eecba63cb690",
   "metadata": {},
   "outputs": [],
   "source": [
    "10.what does pip stands for python?\n",
    "Ans. Preferred Installer Program"
   ]
  },
  {
   "cell_type": "code",
   "execution_count": null,
   "id": "535c7e71-f7c3-4dae-bc13-ab9abc29e7b3",
   "metadata": {},
   "outputs": [],
   "source": [
    "11.mention a few built-in function in python?\n",
    "Ans. input()->used to take input from users.\\n\n",
    "     bin() -> convert integer to binary.\n",
    "    complex() -> function creates a complex number.\n",
    "    type() -> returns the type of variable.\n",
    "     print() -> returns the variables."
   ]
  },
  {
   "cell_type": "code",
   "execution_count": null,
   "id": "989e8371-2df3-42b1-b4ac-220282b35ba1",
   "metadata": {},
   "outputs": [],
   "source": [
    "12.what are the maximum possible length of an identifier in python?\n",
    "Ans. infinite. there is no restriction of length."
   ]
  },
  {
   "cell_type": "code",
   "execution_count": null,
   "id": "b21ecbbc-6109-49ec-a37c-992c2ac381b7",
   "metadata": {},
   "outputs": [],
   "source": [
    "13.what are the benefits of using python?\n",
    "Ans. free and open source.\n",
    "     easy and simple to learn.\n",
    "     lots of standard library.\n",
    "     portable and dynamically typed.\n",
    "    improved productivity."
   ]
  },
  {
   "cell_type": "code",
   "execution_count": null,
   "id": "e804f330-a8d8-4423-8f91-f11fde8d950d",
   "metadata": {},
   "outputs": [],
   "source": [
    "14.how is memory managed in python?\n",
    "Ans.In Python memory allocation and deallocation method is automatic as the Python developers created a garbage collector for Python so that the user does not have to do manual garbage collection.Garbage collection is a process in which the interpreter frees up the memory when not in use to make it available for other objects."
   ]
  },
  {
   "cell_type": "code",
   "execution_count": null,
   "id": "45b20ea9-b08c-4814-9d33-278b9b8b644d",
   "metadata": {},
   "outputs": [],
   "source": [
    "15.how to install python on windows and set path variable?\n",
    "Ans.step1 -> go to browser write python download ,click python download and simple it downloading start.\n",
    "    step2 -> after download go to the download folder and click on and install it.\n",
    "    step3 -> after installation go to cmd and write python -v if python version comes then python is installed in your computer.\n",
    "    step4 -> if version is not come then you have to set the path variable.\n",
    "    step5 -> click on path and copy the  path where you python is installed.\n",
    "    step6 -> click on start button and type environment.\n",
    "    step7 -> click on bottom right environment variable.\n",
    "    step8 -> go to user variable and PATH variable and click on it.\n",
    "    step9 -> paste the path and click ok"
   ]
  }
 ],
 "metadata": {
  "kernelspec": {
   "display_name": "Python 3 (ipykernel)",
   "language": "python",
   "name": "python3"
  },
  "language_info": {
   "codemirror_mode": {
    "name": "ipython",
    "version": 3
   },
   "file_extension": ".py",
   "mimetype": "text/x-python",
   "name": "python",
   "nbconvert_exporter": "python",
   "pygments_lexer": "ipython3",
   "version": "3.10.8"
  }
 },
 "nbformat": 4,
 "nbformat_minor": 5
}
