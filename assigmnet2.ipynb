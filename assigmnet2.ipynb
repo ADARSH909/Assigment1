{
 "cells": [
  {
   "cell_type": "code",
   "execution_count": 1,
   "id": "ee0b1232-af4a-43ca-b05c-e140c13cc5de",
   "metadata": {},
   "outputs": [
    {
     "name": "stdin",
     "output_type": "stream",
     "text": [
      "Enter the percentage: 84\n"
     ]
    },
    {
     "name": "stdout",
     "output_type": "stream",
     "text": [
      "Grade B\n"
     ]
    }
   ],
   "source": [
    "# 1. write a program to accept percentage from user and display the grade \n",
    "percent=int(input(\"Enter the percentage:\"))\n",
    "if percent<=100 and percent>90:\n",
    "    print(\"Grade A\")\n",
    "elif percent<=90 and percent>80:\n",
    "    print(\"Grade B\")\n",
    "elif percent>=60 and percent<=80:\n",
    "    print(\"Grade C\")\n",
    "else:\n",
    "    print(\"Grade D\")"
   ]
  },
  {
   "cell_type": "code",
   "execution_count": 2,
   "id": "199831f5-d0f6-40ab-83be-7a442f6ec8ef",
   "metadata": {},
   "outputs": [
    {
     "name": "stdin",
     "output_type": "stream",
     "text": [
      "Enter Bike price: 50000\n"
     ]
    },
    {
     "name": "stdout",
     "output_type": "stream",
     "text": [
      "your payable road tax is: 2500.0\n"
     ]
    }
   ],
   "source": [
    "# 2. write a program to accept the cost price of bike and display the road tax to be paid  \n",
    "bike_price=int(input(\"Enter Bike price:\"))\n",
    "if bike_price>100000:\n",
    "    tax=(15/100)*bike_price\n",
    "    print(\"your payable road tax is:\",tax)\n",
    "elif bike_price>50000 and bike_price<=100000:\n",
    "    tax=(10/100)*bike_price\n",
    "    print(\"your payable road tax is:\",tax)\n",
    "else:\n",
    "    tax=(5/100)*bike_price\n",
    "    print(\"your payable road tax is:\",tax)"
   ]
  },
  {
   "cell_type": "code",
   "execution_count": 3,
   "id": "6e7ed5c4-2e31-4456-b8b2-8f587ae58ddc",
   "metadata": {},
   "outputs": [
    {
     "name": "stdin",
     "output_type": "stream",
     "text": [
      "Enter your city name: jaipur\n"
     ]
    },
    {
     "name": "stdout",
     "output_type": "stream",
     "text": [
      "Jal Mahal\n"
     ]
    }
   ],
   "source": [
    "# 3. Accept any city from the user and display monuments of that city \n",
    "city=input(\"Enter your city name:\")\n",
    "if city.capitalize()==\"Delhi\":\n",
    "    print(\"Red Fort\")\n",
    "elif city.capitalize()==\"Agra\":\n",
    "    print(\"Taj Mahal\")\n",
    "elif city.capitalize()==\"Jaipur\":\n",
    "    print(\"Jal Mahal\")\n",
    "else:\n",
    "    print(\"sorry,Your city is not in our list\")"
   ]
  },
  {
   "cell_type": "code",
   "execution_count": 6,
   "id": "803b3763-f125-40c4-8bbe-385aefe23973",
   "metadata": {},
   "outputs": [
    {
     "name": "stdout",
     "output_type": "stream",
     "text": [
      "0\n",
      "1\n",
      "2\n"
     ]
    }
   ],
   "source": [
    "# 5. why and when to use while loop in python give a detailed description with example,\n",
    "# Ans -> python while loop is used to execute bloack of statements repeatedly until a given condition is satisfied.\n",
    "#        and when the condition becomes false,the line immmediately after the loop in the is executed.\n",
    "\n",
    "count =0\n",
    "while count<3:\n",
    "    print(count)\n",
    "    count=count+1"
   ]
  },
  {
   "cell_type": "code",
   "execution_count": 9,
   "id": "38460646-02af-4bce-8387-2406885d8064",
   "metadata": {},
   "outputs": [
    {
     "name": "stdin",
     "output_type": "stream",
     "text": [
      "Enter numbers of rows: 4\n"
     ]
    },
    {
     "name": "stdout",
     "output_type": "stream",
     "text": [
      "* \n",
      "* * \n",
      "* * * \n",
      "* * * * \n"
     ]
    }
   ],
   "source": [
    "# 6. use nested while loop to print 3 different pattern.\n",
    "\n",
    "# pattern-1\n",
    "n = int(input(\"Enter numbers of rows:\"))\n",
    "i=1\n",
    "while i<=n:\n",
    "    j=1\n",
    "    while j<=i:\n",
    "        print(\"*\",end=\" \")\n",
    "        j=j+1\n",
    "    print()\n",
    "    i=i+1"
   ]
  },
  {
   "cell_type": "code",
   "execution_count": 22,
   "id": "141d6838-29a1-4880-9fde-22e374237842",
   "metadata": {},
   "outputs": [
    {
     "name": "stdin",
     "output_type": "stream",
     "text": [
      "Enter numbers of rows: 5\n"
     ]
    },
    {
     "name": "stdout",
     "output_type": "stream",
     "text": [
      "1 \n",
      "1 1 \n",
      "1 1 1 \n",
      "1 1 1 1 \n",
      "1 1 1 1 1 \n"
     ]
    }
   ],
   "source": [
    "# 6. use nested while loop to print 3 different pattern.\n",
    "# pattern-3\n",
    "n = int(input(\"Enter numbers of rows:\"))\n",
    "i=1\n",
    "while i<=n:\n",
    "    j=1\n",
    "    while j<=i:\n",
    "        print('1',end=\" \")\n",
    "        j=j+1\n",
    "    print()\n",
    "    i=i+1"
   ]
  },
  {
   "cell_type": "code",
   "execution_count": 18,
   "id": "4e7176e7-37de-4af1-a8db-e8735937e2ed",
   "metadata": {},
   "outputs": [
    {
     "name": "stdin",
     "output_type": "stream",
     "text": [
      "Enter numbers of rows: 10\n"
     ]
    },
    {
     "name": "stdout",
     "output_type": "stream",
     "text": [
      "* * * * * \n",
      "* * * * \n",
      "* * * \n",
      "* * \n",
      "* \n"
     ]
    }
   ],
   "source": [
    "# 6. use nested while loop to print 3 different pattern.\n",
    "# pattern-2\n",
    "n = int(input(\"Enter numbers of rows:\"))\n",
    "while i<=n:\n",
    "    j=n\n",
    "    while j>=i:\n",
    "        print(\"*\",end=\" \")\n",
    "        j=j-1\n",
    "    print()\n",
    "    i=i+1\n"
   ]
  },
  {
   "cell_type": "code",
   "execution_count": 13,
   "id": "498f15e6-9d1e-442c-9ac8-adfed9d1ddd9",
   "metadata": {},
   "outputs": [
    {
     "name": "stdin",
     "output_type": "stream",
     "text": [
      "Enter the Number: 60\n"
     ]
    },
    {
     "name": "stdout",
     "output_type": "stream",
     "text": [
      "The count is: 2\n"
     ]
    }
   ],
   "source": [
    "#4. check how many times a given number can be divided by 3 before it is less than or equal to 10\n",
    "number=int(input(\"Enter the Number:\"))\n",
    "count=0\n",
    "while(number>10):\n",
    "    number=number//3\n",
    "    count=count+1\n",
    "print(\"The count is:\",count)    "
   ]
  },
  {
   "cell_type": "code",
   "execution_count": 14,
   "id": "d49f416b-e359-48d0-a9c0-827dc361bda4",
   "metadata": {},
   "outputs": [
    {
     "name": "stdout",
     "output_type": "stream",
     "text": [
      "10\n",
      "9\n",
      "8\n",
      "7\n",
      "6\n",
      "5\n",
      "4\n",
      "3\n",
      "2\n",
      "1\n"
     ]
    }
   ],
   "source": [
    "# 7.Reverse a while loop to display a number from 10 to 1. \n",
    "n=10\n",
    "while(n>0):\n",
    "    print(n)\n",
    "    n=n-1"
   ]
  },
  {
   "cell_type": "code",
   "execution_count": null,
   "id": "bea97739-13c8-4d4d-ad27-e5abddc2516c",
   "metadata": {},
   "outputs": [],
   "source": []
  }
 ],
 "metadata": {
  "kernelspec": {
   "display_name": "Python 3 (ipykernel)",
   "language": "python",
   "name": "python3"
  },
  "language_info": {
   "codemirror_mode": {
    "name": "ipython",
    "version": 3
   },
   "file_extension": ".py",
   "mimetype": "text/x-python",
   "name": "python",
   "nbconvert_exporter": "python",
   "pygments_lexer": "ipython3",
   "version": "3.10.8"
  }
 },
 "nbformat": 4,
 "nbformat_minor": 5
}
